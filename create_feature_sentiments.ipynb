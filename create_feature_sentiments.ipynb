{
 "cells": [
  {
   "cell_type": "code",
   "execution_count": 1,
   "metadata": {},
   "outputs": [],
   "source": [
    "import nltk\n",
    "from nltk.tokenize import word_tokenize\n",
    "from nltk.stem import WordNetLemmatizer\n",
    "import numpy as np\n",
    "import random\n",
    "import pickle\n",
    "from collections import Counter"
   ]
  },
  {
   "cell_type": "code",
   "execution_count": 2,
   "metadata": {},
   "outputs": [],
   "source": [
    "lemmatizer=WordNetLemmatizer()\n",
    "hm_lines=100000000"
   ]
  },
  {
   "cell_type": "code",
   "execution_count": 3,
   "metadata": {},
   "outputs": [],
   "source": [
    "def create_lexicon(pos,neg):\n",
    "    lexicon=[]\n",
    "    for fi in [pos,neg]:\n",
    "        with open(fi,'r') as f:\n",
    "            contents=f.readlines()\n",
    "            for l in contents[:hm_lines]:\n",
    "                all_words=word_tokenize(l.lower())\n",
    "                #print(all_words)\n",
    "                lexicon+=list(all_words)\n",
    "    lexicon=[lemmatizer.lemmatize(i) for i in lexicon]\n",
    "    w_counts=Counter(lexicon)\n",
    "    #print(w_counts)\n",
    "    #w_counts={'the':4657,'a':3737}....etc\n",
    "    l2=[]\n",
    "    for w in w_counts:\n",
    "        if 1000> w_counts[w] >50:\n",
    "            l2.append(w)\n",
    "    #print(len(l2))\n",
    "    #print(l2)\n",
    "    return l2"
   ]
  },
  {
   "cell_type": "code",
   "execution_count": 4,
   "metadata": {},
   "outputs": [],
   "source": [
    "def sample_handling(sample, lexicon, classification):\n",
    "    featureset=[]\n",
    "    with open(sample,'r') as f:\n",
    "        contents= f.readlines()\n",
    "        for l in contents[:hm_lines]:\n",
    "            current_words=word_tokenize(l.lower())\n",
    "            #print(current_words)\n",
    "            current_words=[lemmatizer.lemmatize(i) for i in current_words]\n",
    "            #print(current_words)\n",
    "            features=np.zeros(len(lexicon))\n",
    "            for word in current_words:\n",
    "                if word.lower() in lexicon:\n",
    "                    index_value=lexicon.index(word.lower())\n",
    "                    features[index_value]+=1\n",
    "            features=list(features)\n",
    "            featureset.append([features, classification])\n",
    "    #print(featureset[:10])\n",
    "    return featureset"
   ]
  },
  {
   "cell_type": "code",
   "execution_count": 5,
   "metadata": {},
   "outputs": [],
   "source": [
    "def create_feature_sets_and_labels(pos,neg,test_size=0.1):\n",
    "    lexicon=create_lexicon(pos,neg)\n",
    "    features=[]\n",
    "    features+=sample_handling(pos,lexicon,[1,0])\n",
    "    features+=sample_handling(neg,lexicon,[0,1])\n",
    "    random.shuffle(features)\n",
    "    \n",
    "    features=np.array(features)\n",
    "    testing_size=int(test_size*len(features))\n",
    "    \n",
    "    train_x=list(features[:,0][:-testing_size])\n",
    "    train_y=list(features[:,1][:-testing_size])\n",
    "    test_x=list(features[:,0][-testing_size:])\n",
    "    test_y=list(features[:,1][-testing_size:])\n",
    "    \n",
    "    return train_x,train_y,test_x,test_y"
   ]
  },
  {
   "cell_type": "code",
   "execution_count": 6,
   "metadata": {
    "scrolled": false
   },
   "outputs": [],
   "source": [
    "if __name__ == '__main__':\n",
    "    train_x,train_y,test_x,test_y=create_feature_sets_and_labels('pos.txt','neg.txt')\n",
    "    with open(\"sentiments set.pickle\",\"wb\") as f:\n",
    "        pickle.dump([train_x,train_y,test_x,test_y],f)\n",
    "        "
   ]
  },
  {
   "cell_type": "code",
   "execution_count": null,
   "metadata": {},
   "outputs": [],
   "source": []
  }
 ],
 "metadata": {
  "kernelspec": {
   "display_name": "Python 3",
   "language": "python",
   "name": "python3"
  },
  "language_info": {
   "codemirror_mode": {
    "name": "ipython",
    "version": 3
   },
   "file_extension": ".py",
   "mimetype": "text/x-python",
   "name": "python",
   "nbconvert_exporter": "python",
   "pygments_lexer": "ipython3",
   "version": "3.6.5"
  }
 },
 "nbformat": 4,
 "nbformat_minor": 2
}
